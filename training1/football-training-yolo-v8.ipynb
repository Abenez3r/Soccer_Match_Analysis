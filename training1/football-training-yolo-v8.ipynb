{
  "cells": [
    {
      "cell_type": "markdown",
      "metadata": {},
      "source": [
        "## Trainning Soccer Dataset using YOLO-V8 and Roboflow (reference instructions in ```/models/model.txt/```)"
      ]
    },
    {
      "cell_type": "markdown",
      "metadata": {},
      "source": [
        "### Install Required Libraries"
      ]
    },
    {
      "cell_type": "code",
      "execution_count": null,
      "metadata": {
        "colab": {
          "base_uri": "https://localhost:8080/"
        },
        "id": "tnlwaWztjbS8",
        "outputId": "06276acf-d75c-4b26-84bd-e68e4f6353a2"
      },
      "outputs": [],
      "source": [
        "!pip install ultralytics  # Library for YOLO\n",
        "!pip install roboflow  # Library for downloading datasets from Roboflow"
      ]
    },
    {
      "cell_type": "markdown",
      "metadata": {},
      "source": [
        "### Download the Soccer Dataset from Roboflow"
      ]
    },
    {
      "cell_type": "code",
      "execution_count": null,
      "metadata": {
        "colab": {
          "base_uri": "https://localhost:8080/"
        },
        "id": "owBb44eajxoo",
        "outputId": "9297c686-0c86-4c06-cae2-dd29c90a523e"
      },
      "outputs": [],
      "source": [
        "from roboflow import Roboflow\n",
        "\n",
        "# Initialize the Roboflow object with your API key\n",
        "rf = Roboflow(api_key=\"your_api_key_here\")\n",
        "# Access the workspace and project for football player detection\n",
        "project = rf.workspace(\"roboflow-jvuqo\").project(\"football-players-detection-3zvbc\")\n",
        "# Get the first version of the dataset\n",
        "version = project.version(1)\n",
        "# Download the dataset in YOLOv8 format\n",
        "dataset = version.download(\"yolov8\")\n"
      ]
    },
    {
      "cell_type": "markdown",
      "metadata": {},
      "source": [
        "### Verify Dataset Location (add print)"
      ]
    },
    {
      "cell_type": "code",
      "execution_count": null,
      "metadata": {
        "colab": {
          "base_uri": "https://localhost:8080/",
          "height": 35
        },
        "id": "rN26Qm-CkHeq",
        "outputId": "be957fda-6a1d-4791-886a-00d6708bd5ad"
      },
      "outputs": [],
      "source": [
        "dataset.location"
      ]
    },
    {
      "cell_type": "markdown",
      "metadata": {},
      "source": [
        "### Move Dataset Folders for YOLOv8 Training"
      ]
    },
    {
      "cell_type": "code",
      "execution_count": null,
      "metadata": {
        "colab": {
          "base_uri": "https://localhost:8080/",
          "height": 35
        },
        "id": "cy-fj4AXkVhr",
        "outputId": "07764115-65ca-4d3b-84f6-04191bb45d17"
      },
      "outputs": [],
      "source": [
        "import shutil\n",
        "\n",
        "# Move the 'train' directory\n",
        "shutil.move('football-players-detection-1/train',\n",
        "            'football-players-detection-1/football-players-detection-1/train')\n",
        "\n",
        "# Move the 'test' directory\n",
        "shutil.move('football-players-detection-1/test',\n",
        "            'football-players-detection-1/football-players-detection-1/test')\n",
        "\n",
        "# Move the 'valid' directory\n",
        "shutil.move('football-players-detection-1/valid',\n",
        "            'football-players-detection-1/football-players-detection-1/valid')\n"
      ]
    },
    {
      "cell_type": "markdown",
      "metadata": {
        "id": "qQYuxyS1kdbM"
      },
      "source": [
        "### Train the YOLOv8 Model"
      ]
    },
    {
      "cell_type": "code",
      "execution_count": null,
      "metadata": {
        "colab": {
          "base_uri": "https://localhost:8080/"
        },
        "id": "ycTM7a3ckaxO",
        "outputId": "33bd0677-e4c0-4a12-f06e-df6cf1be4420"
      },
      "outputs": [],
      "source": [
        "!yolo task=detect mode=train model=yolov8s.pt data={dataset.location}/data.yaml epochs=100 imgsz=640"
      ]
    }
  ],
  "metadata": {
    "accelerator": "GPU",
    "colab": {
      "gpuType": "T4",
      "provenance": []
    },
    "kernelspec": {
      "display_name": "Python 3",
      "name": "python3"
    },
    "language_info": {
      "name": "python"
    }
  },
  "nbformat": 4,
  "nbformat_minor": 0
}
